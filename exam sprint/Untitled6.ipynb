{
 "cells": [
  {
   "cell_type": "code",
   "execution_count": 40,
   "id": "da7d62c0",
   "metadata": {},
   "outputs": [
    {
     "name": "stdout",
     "output_type": "stream",
     "text": [
      "this is a work of art\n",
      "\n"
     ]
    }
   ],
   "source": [
    "file1=open(\"text.txt\",\"r\")\n",
    "file2=open(\"copy.txt\",\"w\")\n",
    "content=file1.readlines()\n",
    "\n",
    "for i in content:\n",
    "    if (i<len(cont)\n",
    "        file2.write(content[i])\n",
    "    else:\n",
    "        pass\n",
    "\n",
    "file2=open(\"copy.txt\",\"r\")\n",
    "content1=file2.read()        \n",
    "print(content1)\n",
    "    \n",
    "    \n"
   ]
  },
  {
   "cell_type": "code",
   "execution_count": 38,
   "id": "de934413",
   "metadata": {},
   "outputs": [
    {
     "name": "stdout",
     "output_type": "stream",
     "text": [
      "True\n"
     ]
    }
   ],
   "source": [
    "i=1\n",
    "n=(i%2!=0)\n",
    "print(n)"
   ]
  },
  {
   "cell_type": "code",
   "execution_count": null,
   "id": "0556a960",
   "metadata": {},
   "outputs": [],
   "source": []
  },
  {
   "cell_type": "code",
   "execution_count": null,
   "id": "9e3f8466",
   "metadata": {},
   "outputs": [],
   "source": []
  }
 ],
 "metadata": {
  "kernelspec": {
   "display_name": "Python 3 (ipykernel)",
   "language": "python",
   "name": "python3"
  },
  "language_info": {
   "codemirror_mode": {
    "name": "ipython",
    "version": 3
   },
   "file_extension": ".py",
   "mimetype": "text/x-python",
   "name": "python",
   "nbconvert_exporter": "python",
   "pygments_lexer": "ipython3",
   "version": "3.9.13"
  }
 },
 "nbformat": 4,
 "nbformat_minor": 5
}
