{
 "cells": [
  {
   "cell_type": "code",
   "execution_count": 1,
   "id": "68375607",
   "metadata": {},
   "outputs": [
    {
     "name": "stdout",
     "output_type": "stream",
     "text": [
      "enter the number:6\n",
      "720\n"
     ]
    }
   ],
   "source": [
    "n=int(input(\"enter the number:\"))\n",
    "fact=1\n",
    "for i in range(1,n+1):\n",
    "    fact=fact*i\n",
    "print (fact)"
   ]
  },
  {
   "cell_type": "code",
   "execution_count": 5,
   "id": "5f6f0541",
   "metadata": {},
   "outputs": [
    {
     "name": "stdout",
     "output_type": "stream",
     "text": [
      "1\n"
     ]
    }
   ],
   "source": [
    "def gcd(a,b):\n",
    "    if (b==0):\n",
    "        return a\n",
    "    else:\n",
    "        return gcd(b,a%b)\n",
    "print(gcd(5,4))"
   ]
  },
  {
   "cell_type": "code",
   "execution_count": 6,
   "id": "ae30ad98",
   "metadata": {},
   "outputs": [
    {
     "name": "stdout",
     "output_type": "stream",
     "text": [
      "Range:5\n",
      "Enter the values:3\n",
      "Enter the values:6\n",
      "Enter the values:1\n",
      "Enter the values:8\n",
      "Enter the values:9\n",
      "The list:\n",
      " [3, 6, 1, 8, 9]\n",
      "Sum of all elements in list: 27\n"
     ]
    }
   ],
   "source": [
    "list=[]\n",
    "n=int(input(\"Range:\"))\n",
    "for i in range(n):\n",
    "    value=int(input(\"Enter the values:\"))\n",
    "    list.append(value)\n",
    "print(\"The list:\\n\",list)\n",
    "s=sum(list)\n",
    "print(\"Sum of all elements in list:\",s)"
   ]
  },
  {
   "cell_type": "code",
   "execution_count": 10,
   "id": "9ddadb20",
   "metadata": {},
   "outputs": [
    {
     "name": "stdout",
     "output_type": "stream",
     "text": [
      "{'rr': 1, 'ml': 4, 'ee': 6, 'rre': 31, 'mlw': 43, 'eef': 63}\n"
     ]
    }
   ],
   "source": [
    "dict1={'rr':1,'ml':4,'ee':6}\n",
    "dict2={'rre':31,'mlw':43,'eef':63}\n",
    "dict3={**dict1,**dict2}\n",
    "print(dict3)"
   ]
  },
  {
   "cell_type": "code",
   "execution_count": 13,
   "id": "7948ac78",
   "metadata": {},
   "outputs": [
    {
     "name": "stdout",
     "output_type": "stream",
     "text": [
      "[1, 2, 3, 4, 5, 6, 7, 8]\n",
      "[1, 3, 5, 7]\n"
     ]
    }
   ],
   "source": [
    "list1=[1,2,3,4]\n",
    "list2=[5,6,7,8]\n",
    "list3=list1+list2\n",
    "list4=[]\n",
    "print(list3)\n",
    "for i in list3:\n",
    "    if (i%2!=0):\n",
    "        list4.append(i)\n",
    "print(list4)"
   ]
  },
  {
   "cell_type": "code",
   "execution_count": 23,
   "id": "9d65a5cc",
   "metadata": {},
   "outputs": [
    {
     "name": "stdout",
     "output_type": "stream",
     "text": [
      "Enter a list of words:this is a\n",
      "['this', 'is', 'a']\n",
      "this 4 "
     ]
    }
   ],
   "source": [
    "n=input(\"Enter a list of words:\")\n",
    "s=n.split()\n",
    "print(s)\n",
    "m=max(s)\n",
    "\n",
    "n=len(m)\n",
    "print(m,n,end=\" \")\n"
   ]
  },
  {
   "cell_type": "code",
   "execution_count": 33,
   "id": "981e343a",
   "metadata": {},
   "outputs": [
    {
     "name": "stdout",
     "output_type": "stream",
     "text": [
      "{'alice': 33, 'bob': 12, 'charlie': 11, 'eric': 55}\n"
     ]
    }
   ],
   "source": [
    "data={\n",
    "    \"bob\":12,\n",
    "    \"charlie\":11,\n",
    "    \"alice\":33,\n",
    "    \"eric\":55\n",
    "}\n",
    "d=sorted(data.items(),key=lambda x:x[0])\n",
    "\n",
    "d=dict(d)\n",
    "print (d)"
   ]
  },
  {
   "cell_type": "code",
   "execution_count": 27,
   "id": "5803b7f5",
   "metadata": {},
   "outputs": [
    {
     "name": "stdout",
     "output_type": "stream",
     "text": [
      "[1, 2, 3, 5, 6, 7, 8]\n"
     ]
    }
   ],
   "source": [
    "list2=[5,6,7,8,1,2,3]\n",
    "list2.sort()\n",
    "print(list2)"
   ]
  },
  {
   "cell_type": "code",
   "execution_count": 38,
   "id": "964a7b58",
   "metadata": {},
   "outputs": [
    {
     "name": "stdout",
     "output_type": "stream",
     "text": [
      "['this is a \\n', 'this is a work of art\\n', 'donkey kong']\n",
      "['this is a', 'this is a work of art', 'donkey kong']\n"
     ]
    }
   ],
   "source": [
    "fopen=open(\"text.txt\",\"r\")\n",
    "fopen1=open(\"untitled.txt\",\"w\")\n",
    "read=fopen.readlines()\n",
    "for i in range(len(read)):\n",
    "    fopen1.write(read[i])\n",
    "fopen.close()\n",
    "fopen1.close()\n",
    "fopen1=open(\"untitled.txt\",\"r\")\n",
    "read=fopen1.readlines()\n",
    "print(read)\n",
    "list= [x.strip() for x in read]\n",
    "print(list)"
   ]
  },
  {
   "cell_type": "code",
   "execution_count": null,
   "id": "c8d7375c",
   "metadata": {},
   "outputs": [],
   "source": []
  }
 ],
 "metadata": {
  "kernelspec": {
   "display_name": "Python 3 (ipykernel)",
   "language": "python",
   "name": "python3"
  },
  "language_info": {
   "codemirror_mode": {
    "name": "ipython",
    "version": 3
   },
   "file_extension": ".py",
   "mimetype": "text/x-python",
   "name": "python",
   "nbconvert_exporter": "python",
   "pygments_lexer": "ipython3",
   "version": "3.9.13"
  }
 },
 "nbformat": 4,
 "nbformat_minor": 5
}
