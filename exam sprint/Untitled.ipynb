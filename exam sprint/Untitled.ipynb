{
 "cells": [
  {
   "cell_type": "code",
   "execution_count": null,
   "id": "21120dbe",
   "metadata": {},
   "outputs": [],
   "source": [
    "a=int(input(\"Enter the size of edge:\"))\n",
    "sqr_area=lambda a:(a**2)\n",
    "print(\"Area of square:\",sqr_area(a))\n",
    "\n",
    "l=int(input(\"\\nEnter the length:\"))\n",
    "b=int(input(\"Enter the breadth:\"))\n",
    "rect_area=lambda l,b:l*b\n",
    "print(\"Area of Rectangle:\",rect_area(l,b))\n",
    "\n",
    "h=int(input(\"\\nEnter the height:\"))\n",
    "b=int(input(\"Enter the base:\"))\n",
    "tri_area=lambda b,h:(b*h)/2\n",
    "print(\"Area of Rectangle:\",tri_area(b,h))\n",
    "\n",
    "\n"
   ]
  },
  {
   "cell_type": "code",
   "execution_count": null,
   "id": "8858e7a8",
   "metadata": {},
   "outputs": [],
   "source": []
  }
 ],
 "metadata": {
  "kernelspec": {
   "display_name": "Python 3 (ipykernel)",
   "language": "python",
   "name": "python3"
  },
  "language_info": {
   "codemirror_mode": {
    "name": "ipython",
    "version": 3
   },
   "file_extension": ".py",
   "mimetype": "text/x-python",
   "name": "python",
   "nbconvert_exporter": "python",
   "pygments_lexer": "ipython3",
   "version": "3.9.13"
  }
 },
 "nbformat": 4,
 "nbformat_minor": 5
}
