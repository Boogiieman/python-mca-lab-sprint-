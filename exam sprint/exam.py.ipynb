{
 "cells": [
  {
   "cell_type": "code",
   "execution_count": 1,
   "id": "08fc8c28",
   "metadata": {},
   "outputs": [
    {
     "name": "stdout",
     "output_type": "stream",
     "text": [
      "Name,Department,Birthday Month\n",
      "\n",
      "John,Accounts,November\n",
      "\n",
      "Amy,IT,March\n",
      "\n"
     ]
    }
   ],
   "source": [
    "import csv\n",
    "with open('new1.csv','w') as outf:\n",
    "    fields = ['Name', 'Department', 'Birthday Month']\n",
    "    content = csv.DictWriter(outf, fieldnames=fields)\n",
    "    content.writeheader()\n",
    "    content.writerow({'Name': 'John', 'Department': 'Accounts', 'Birthday Month': 'November'})\n",
    "    content.writerow({'Name': 'Amy', 'Department': 'IT', 'Birthday Month': 'March'})\n",
    "\n",
    "with open('new1.csv','r') as f:\n",
    "    data=csv.reader(f)\n",
    "    for r in data:\n",
    "        print(','.join(r))"
   ]
  },
  {
   "cell_type": "code",
   "execution_count": 19,
   "id": "e151c86a",
   "metadata": {},
   "outputs": [
    {
     "name": "stdout",
     "output_type": "stream",
     "text": [
      "Name.Department.Birthday Month\n",
      "\n",
      "John.Accounts.November\n",
      "\n",
      "Amy.IT.March\n",
      "\n"
     ]
    }
   ],
   "source": [
    "import csv\n",
    "with open (\"new1.csv\")as files:\n",
    "    data=csv.reader(files)\n",
    "    for i in data:\n",
    "        print('.'.join(i))"
   ]
  },
  {
   "cell_type": "code",
   "execution_count": 21,
   "id": "ddb6ff6c",
   "metadata": {},
   "outputs": [
    {
     "name": "stdout",
     "output_type": "stream",
     "text": [
      "geeks\n",
      " \tg\te\te\tk\ts\t \n"
     ]
    }
   ],
   "source": [
    "\n",
    "# Joining with empty separator\n",
    "list1 = ['g', 'e', 'e', 'k', 's']\n",
    "print(\"\".join(list1))\n",
    " \n",
    "# Joining with string\n",
    "list1 = \" geeks \"\n",
    "print(\"\\t\".join(list1))"
   ]
  },
  {
   "cell_type": "code",
   "execution_count": 26,
   "id": "5ffcdee0",
   "metadata": {},
   "outputs": [
    {
     "name": "stdout",
     "output_type": "stream",
     "text": [
      "1 2 3\n",
      "r a b\n",
      "b a r\n",
      "a r b\n",
      "bb cd r\n"
     ]
    }
   ],
   "source": [
    "import csv\n",
    "with open('dep.csv')as files:\n",
    "    data=csv.reader(files)\n",
    "    for row in data:\n",
    "        print(row[0],row[1],row[2])"
   ]
  },
  {
   "cell_type": "code",
   "execution_count": 35,
   "id": "2d7c07fa",
   "metadata": {},
   "outputs": [
    {
     "name": "stdout",
     "output_type": "stream",
     "text": [
      "6\n"
     ]
    }
   ],
   "source": [
    "total=0\n",
    "list=['aaaa','baa']\n",
    "for i in list:\n",
    "    total=total+i.count('a')\n",
    "print(total)"
   ]
  },
  {
   "cell_type": "code",
   "execution_count": 32,
   "id": "496f2ace",
   "metadata": {},
   "outputs": [
    {
     "name": "stdout",
     "output_type": "stream",
     "text": [
      "5\n"
     ]
    }
   ],
   "source": [
    "list=[3,4,5]\n",
    "n=max(list)\n",
    "print (n)"
   ]
  },
  {
   "cell_type": "code",
   "execution_count": 36,
   "id": "7415e9ad",
   "metadata": {},
   "outputs": [
    {
     "name": "stdout",
     "output_type": "stream",
     "text": [
      "enter:5\n",
      "615\n"
     ]
    }
   ],
   "source": [
    "n=input(\"enter:\")\n",
    "s=int (n)+ int(n+n)+int(n+n+n)\n",
    "print (s)"
   ]
  },
  {
   "cell_type": "code",
   "execution_count": 39,
   "id": "e2d0a472",
   "metadata": {},
   "outputs": [
    {
     "name": "stdout",
     "output_type": "stream",
     "text": [
      "Enterrrr\n",
      "Word before replacement: rrr\n",
      "r$$\n"
     ]
    }
   ],
   "source": [
    "w=input(\"Enter\")\n",
    "print(\"Word before replacement:\",w)\n",
    "l1=w[0]\n",
    "r=w.replace(l1,'$')\n",
    "f=l1+r[1:]\n",
    "print (f)"
   ]
  },
  {
   "cell_type": "code",
   "execution_count": 40,
   "id": "3c1546fd",
   "metadata": {},
   "outputs": [
    {
     "name": "stdout",
     "output_type": "stream",
     "text": [
      "Enter the length: 5\n",
      "Enter the breadth: 4\n",
      "Enter the length: 4\n",
      "Enter the breadth: 5\n",
      "Area of Rectangle 1 :  20\n",
      "Perimeter of Rectangle 1 :  18\n",
      "Area of Rectangle 2 :  20\n",
      "Perimeter of Rectangle 2 :  18\n",
      "Is Both Rectangle's area similar?  True\n"
     ]
    }
   ],
   "source": [
    "class Rectangle:\n",
    "\n",
    "    def __init__(self):\n",
    "\n",
    "        self.length=int(input(\"Enter the length: \"))\n",
    "        self.breadth=int(input(\"Enter the breadth: \"))\n",
    "\n",
    "    def area(self):\n",
    "\n",
    "        return self.length*self.breadth\n",
    "\n",
    "    def perimeter(self):\n",
    "\n",
    "        return 2*(self.length+self.breadth)\n",
    "\n",
    "    def compare(self,area1,area2):\n",
    "\n",
    "        if(area1-area2!=0):\n",
    "            return False\n",
    "        else:\n",
    "            return True\n",
    "\n",
    "\n",
    "rec1=Rectangle()\n",
    "rec2=Rectangle()\n",
    "\n",
    "print(\"Area of Rectangle 1 : \",rec1.area())\n",
    "print(\"Perimeter of Rectangle 1 : \",rec1.perimeter())\n",
    "\n",
    "print(\"Area of Rectangle 2 : \",rec2.area())\n",
    "print(\"Perimeter of Rectangle 2 : \",rec2.perimeter())\n",
    "\n",
    "print(\"Is Both Rectangle's area similar? \",rec1.compare(rec1.area(),rec2.area()))"
   ]
  },
  {
   "cell_type": "code",
   "execution_count": null,
   "id": "8e142962",
   "metadata": {},
   "outputs": [],
   "source": []
  }
 ],
 "metadata": {
  "kernelspec": {
   "display_name": "Python 3 (ipykernel)",
   "language": "python",
   "name": "python3"
  },
  "language_info": {
   "codemirror_mode": {
    "name": "ipython",
    "version": 3
   },
   "file_extension": ".py",
   "mimetype": "text/x-python",
   "name": "python",
   "nbconvert_exporter": "python",
   "pygments_lexer": "ipython3",
   "version": "3.9.13"
  }
 },
 "nbformat": 4,
 "nbformat_minor": 5
}
