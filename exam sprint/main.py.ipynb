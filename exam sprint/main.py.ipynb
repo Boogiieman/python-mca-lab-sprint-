{
 "cells": [
  {
   "cell_type": "code",
   "execution_count": 1,
   "id": "1959da14",
   "metadata": {},
   "outputs": [
    {
     "ename": "ImportError",
     "evalue": "cannot import name 'rectangle' from 'graphics' (unknown location)",
     "output_type": "error",
     "traceback": [
      "\u001b[1;31m---------------------------------------------------------------------------\u001b[0m",
      "\u001b[1;31mImportError\u001b[0m                               Traceback (most recent call last)",
      "\u001b[1;32m~\\AppData\\Local\\Temp\\ipykernel_6308\\78615503.py\u001b[0m in \u001b[0;36m<module>\u001b[1;34m\u001b[0m\n\u001b[1;32m----> 1\u001b[1;33m \u001b[1;32mfrom\u001b[0m \u001b[0mgraphics\u001b[0m \u001b[1;32mimport\u001b[0m \u001b[0mrectangle\u001b[0m\u001b[1;33m,\u001b[0m\u001b[0mcircle\u001b[0m\u001b[1;33m\u001b[0m\u001b[1;33m\u001b[0m\u001b[0m\n\u001b[0m\u001b[0;32m      2\u001b[0m \u001b[1;32mfrom\u001b[0m \u001b[0mgraphics\u001b[0m\u001b[1;33m.\u001b[0m\u001b[0mthreeD_graphics\u001b[0m\u001b[1;33m.\u001b[0m\u001b[0mcuboid\u001b[0m \u001b[1;32mimport\u001b[0m \u001b[1;33m*\u001b[0m\u001b[1;33m\u001b[0m\u001b[1;33m\u001b[0m\u001b[0m\n\u001b[0;32m      3\u001b[0m \u001b[1;32mfrom\u001b[0m \u001b[0mgraphics\u001b[0m\u001b[1;33m.\u001b[0m\u001b[0mthreeD_graphics\u001b[0m \u001b[1;32mimport\u001b[0m \u001b[0msphere\u001b[0m\u001b[1;33m\u001b[0m\u001b[1;33m\u001b[0m\u001b[0m\n\u001b[0;32m      4\u001b[0m \u001b[1;33m\u001b[0m\u001b[0m\n\u001b[0;32m      5\u001b[0m \u001b[0mprint\u001b[0m\u001b[1;33m(\u001b[0m\u001b[1;34m\"Rectangle\"\u001b[0m\u001b[1;33m)\u001b[0m\u001b[1;33m\u001b[0m\u001b[1;33m\u001b[0m\u001b[0m\n",
      "\u001b[1;31mImportError\u001b[0m: cannot import name 'rectangle' from 'graphics' (unknown location)"
     ]
    }
   ],
   "source": [
    "from graphics import rectangle,circle\n",
    "from graphics.threeD_graphics.cuboid import *\n",
    "from graphics.threeD_graphics import sphere\n",
    "\n",
    "print(\"Rectangle\")\n",
    "print(\"------------------------\")\n",
    "print(\"\\n\",\"Length=2\",\"\\n\",\"Breadth=5\",\"\\n\")\n",
    "print(\"Area:\",rectangle.area(2,5))\n",
    "print(\"Perimeter:\",rectangle.perimeter(2,5))\n",
    "\n",
    "print(\"\\n\",\"Circle\")\n",
    "print(\"------------------------\")\n",
    "print(\"\\n\",\"Radius=5\",\"\\n\")\n",
    "print(\"Area:\",circle.area(5))\n",
    "print(\"Perimeter:\",circle.perimeter(5))\n",
    "\n",
    "print(\"\\n\",\"Cuboid\")\n",
    "print(\"------------------------\")\n",
    "print(\"\\n\",\"Length=2\",\"\\n\",\"Breadth=5\",\"\\n\",\"Height=3\",\"\\n\")\n",
    "print(\"Total Surface Area:\",TSA(2,5,3))\n",
    "print(\"Perimeter:\",perimeter(2,5))\n",
    "\n",
    "print(\"\\n\",\"Sphere\")\n",
    "print(\"------------------------\")\n",
    "print(\"\\n\",\"Radius=5\",\"\\n\")\n",
    "print(\"Total Surface Area:\",sphere.TSA(5))\n",
    "print(\"Circumference:\",sphere.circumference(5))"
   ]
  },
  {
   "cell_type": "code",
   "execution_count": null,
   "id": "215804d5",
   "metadata": {},
   "outputs": [],
   "source": []
  }
 ],
 "metadata": {
  "kernelspec": {
   "display_name": "Python 3 (ipykernel)",
   "language": "python",
   "name": "python3"
  },
  "language_info": {
   "codemirror_mode": {
    "name": "ipython",
    "version": 3
   },
   "file_extension": ".py",
   "mimetype": "text/x-python",
   "name": "python",
   "nbconvert_exporter": "python",
   "pygments_lexer": "ipython3",
   "version": "3.9.13"
  }
 },
 "nbformat": 4,
 "nbformat_minor": 5
}
